{
 "cells": [
  {
   "cell_type": "markdown",
   "id": "f1fb1ac0",
   "metadata": {},
   "source": [
    "Import library 'Seaborn', 'NumPy' dan 'Pandas'"
   ]
  },
  {
   "cell_type": "code",
   "execution_count": 7,
   "id": "f252f6b6",
   "metadata": {},
   "outputs": [],
   "source": [
    "import numpy as np\n",
    "import seaborn as sns\n",
    "import pandas as pd"
   ]
  },
  {
   "cell_type": "markdown",
   "id": "3b43b5e0",
   "metadata": {},
   "source": [
    "Load dataset 'Titanic'"
   ]
  },
  {
   "cell_type": "code",
   "execution_count": 8,
   "id": "3919ce5d",
   "metadata": {},
   "outputs": [],
   "source": [
    "titanic = sns.load_dataset('titanic')"
   ]
  },
  {
   "cell_type": "markdown",
   "id": "d8f24214",
   "metadata": {},
   "source": [
    "2.1 Filter out rows where the 'age' column's value is missing then display the first 5 rows."
   ]
  },
  {
   "cell_type": "code",
   "execution_count": 9,
   "id": "5f67b001",
   "metadata": {},
   "outputs": [
    {
     "name": "stdout",
     "output_type": "stream",
     "text": [
      "   survived  pclass     sex   age  sibsp  parch     fare embarked  class  \\\n",
      "0         0       3    male  22.0      1      0   7.2500        S  Third   \n",
      "1         1       1  female  38.0      1      0  71.2833        C  First   \n",
      "2         1       3  female  26.0      0      0   7.9250        S  Third   \n",
      "3         1       1  female  35.0      1      0  53.1000        S  First   \n",
      "4         0       3    male  35.0      0      0   8.0500        S  Third   \n",
      "\n",
      "     who  adult_male deck  embark_town alive  alone  \n",
      "0    man        True  NaN  Southampton    no  False  \n",
      "1  woman       False    C    Cherbourg   yes  False  \n",
      "2  woman       False  NaN  Southampton   yes   True  \n",
      "3  woman       False    C  Southampton   yes  False  \n",
      "4    man        True  NaN  Southampton    no   True  \n"
     ]
    }
   ],
   "source": [
    "filtered_data = titanic[titanic['age'].notna()]\n",
    "\n",
    "print(filtered_data.head())"
   ]
  },
  {
   "cell_type": "markdown",
   "id": "6aa9369c",
   "metadata": {},
   "source": [
    "2.2 Retrieve rows where the age is greater than 50 then display the first 5 rows."
   ]
  },
  {
   "cell_type": "code",
   "execution_count": 10,
   "id": "24a8b913",
   "metadata": {},
   "outputs": [
    {
     "name": "stdout",
     "output_type": "stream",
     "text": [
      "    survived  pclass     sex   age  sibsp  parch     fare embarked   class  \\\n",
      "6          0       1    male  54.0      0      0  51.8625        S   First   \n",
      "11         1       1  female  58.0      0      0  26.5500        S   First   \n",
      "15         1       2  female  55.0      0      0  16.0000        S  Second   \n",
      "33         0       2    male  66.0      0      0  10.5000        S  Second   \n",
      "54         0       1    male  65.0      0      1  61.9792        C   First   \n",
      "\n",
      "      who  adult_male deck  embark_town alive  alone  \n",
      "6     man        True    E  Southampton    no   True  \n",
      "11  woman       False    C  Southampton   yes   True  \n",
      "15  woman       False  NaN  Southampton   yes   True  \n",
      "33    man        True  NaN  Southampton    no   True  \n",
      "54    man        True    B    Cherbourg    no  False  \n"
     ]
    }
   ],
   "source": [
    "age_greater_50 = titanic[titanic['age'] > 50]\n",
    "\n",
    "print(age_greater_50.head())"
   ]
  },
  {
   "cell_type": "markdown",
   "id": "96fa18ba",
   "metadata": {},
   "source": [
    "2.3 Filter data based on multiple conditions (age > 30 and 'sex' is 'female') then display the first 5 rows."
   ]
  },
  {
   "cell_type": "code",
   "execution_count": 11,
   "id": "2859beb5",
   "metadata": {},
   "outputs": [
    {
     "name": "stdout",
     "output_type": "stream",
     "text": [
      "    survived  pclass     sex   age  sibsp  parch     fare embarked   class  \\\n",
      "1          1       1  female  38.0      1      0  71.2833        C   First   \n",
      "3          1       1  female  35.0      1      0  53.1000        S   First   \n",
      "11         1       1  female  58.0      0      0  26.5500        S   First   \n",
      "15         1       2  female  55.0      0      0  16.0000        S  Second   \n",
      "18         0       3  female  31.0      1      0  18.0000        S   Third   \n",
      "\n",
      "      who  adult_male deck  embark_town alive  alone  \n",
      "1   woman       False    C    Cherbourg   yes  False  \n",
      "3   woman       False    C  Southampton   yes  False  \n",
      "11  woman       False    C  Southampton   yes   True  \n",
      "15  woman       False  NaN  Southampton   yes   True  \n",
      "18  woman       False  NaN  Southampton    no  False  \n"
     ]
    }
   ],
   "source": [
    "filtered_conditions = titanic[(titanic['age'] > 30) & (titanic['sex'] == 'female')]\n",
    "\n",
    "print(filtered_conditions.head())"
   ]
  },
  {
   "cell_type": "markdown",
   "id": "eddd7186",
   "metadata": {},
   "source": [
    "2.4 Sort the dataset based on the 'fare' column in ascending order, then display 5 first rows."
   ]
  },
  {
   "cell_type": "code",
   "execution_count": 12,
   "id": "f87c5276",
   "metadata": {},
   "outputs": [
    {
     "name": "stdout",
     "output_type": "stream",
     "text": [
      "     survived  pclass   sex   age  sibsp  parch  fare embarked   class  who  \\\n",
      "806         0       1  male  39.0      0      0   0.0        S   First  man   \n",
      "413         0       2  male   NaN      0      0   0.0        S  Second  man   \n",
      "481         0       2  male   NaN      0      0   0.0        S  Second  man   \n",
      "466         0       2  male   NaN      0      0   0.0        S  Second  man   \n",
      "179         0       3  male  36.0      0      0   0.0        S   Third  man   \n",
      "\n",
      "     adult_male deck  embark_town alive  alone  \n",
      "806        True    A  Southampton    no   True  \n",
      "413        True  NaN  Southampton    no   True  \n",
      "481        True  NaN  Southampton    no   True  \n",
      "466        True  NaN  Southampton    no   True  \n",
      "179        True  NaN  Southampton    no   True  \n"
     ]
    }
   ],
   "source": [
    "# Urutkan berdasarkan 'Fare' secara ascending\n",
    "sorted_by_fare = titanic.sort_values(by='fare', ascending=True)\n",
    "\n",
    "# Tampilkan 5 baris pertama\n",
    "print(sorted_by_fare.head())\n"
   ]
  },
  {
   "cell_type": "markdown",
   "id": "e8ed8057",
   "metadata": {},
   "source": [
    "2.5 Sort the dataset by multiple columns (first by 'class' and then by 'age'), then display 5 first rows."
   ]
  },
  {
   "cell_type": "code",
   "execution_count": 13,
   "id": "fb4663b3",
   "metadata": {},
   "outputs": [
    {
     "name": "stdout",
     "output_type": "stream",
     "text": [
      "     survived  pclass     sex    age  sibsp  parch      fare embarked  class  \\\n",
      "305         1       1    male   0.92      1      2  151.5500        S  First   \n",
      "297         0       1  female   2.00      1      2  151.5500        S  First   \n",
      "445         1       1    male   4.00      0      2   81.8583        S  First   \n",
      "802         1       1    male  11.00      1      2  120.0000        S  First   \n",
      "435         1       1  female  14.00      1      2  120.0000        S  First   \n",
      "\n",
      "       who  adult_male deck  embark_town alive  alone  \n",
      "305  child       False    C  Southampton   yes  False  \n",
      "297  child       False    C  Southampton    no  False  \n",
      "445  child       False    A  Southampton   yes  False  \n",
      "802  child       False    B  Southampton   yes  False  \n",
      "435  child       False    B  Southampton   yes  False  \n"
     ]
    }
   ],
   "source": [
    "# Urutkan berdasarkan 'Pclass' dan 'Age'\n",
    "sorted_by_multiple = titanic.sort_values(by=['pclass', 'age'], ascending=[True, True])\n",
    "\n",
    "# Tampilkan 5 baris pertama\n",
    "print(sorted_by_multiple.head())\n"
   ]
  },
  {
   "cell_type": "markdown",
   "id": "7f31ec44",
   "metadata": {},
   "source": [
    "2.6 Reset the index of the DataFrame after sorting, then display 5 first rows."
   ]
  },
  {
   "cell_type": "code",
   "execution_count": 14,
   "id": "e0d88cc1",
   "metadata": {},
   "outputs": [
    {
     "name": "stdout",
     "output_type": "stream",
     "text": [
      "   survived  pclass     sex    age  sibsp  parch      fare embarked  class  \\\n",
      "0         1       1    male   0.92      1      2  151.5500        S  First   \n",
      "1         0       1  female   2.00      1      2  151.5500        S  First   \n",
      "2         1       1    male   4.00      0      2   81.8583        S  First   \n",
      "3         1       1    male  11.00      1      2  120.0000        S  First   \n",
      "4         1       1  female  14.00      1      2  120.0000        S  First   \n",
      "\n",
      "     who  adult_male deck  embark_town alive  alone  \n",
      "0  child       False    C  Southampton   yes  False  \n",
      "1  child       False    C  Southampton    no  False  \n",
      "2  child       False    A  Southampton   yes  False  \n",
      "3  child       False    B  Southampton   yes  False  \n",
      "4  child       False    B  Southampton   yes  False  \n"
     ]
    }
   ],
   "source": [
    "# Reset indeks setelah pengurutan\n",
    "reset_index_df = sorted_by_multiple.reset_index(drop=True)\n",
    "\n",
    "# Tampilkan 5 baris pertama\n",
    "print(reset_index_df.head())\n"
   ]
  },
  {
   "cell_type": "markdown",
   "id": "32618b60",
   "metadata": {},
   "source": [
    "2.7 Find and display rows where 'embarked' column value is 'C'  (Cherbourg) and 'fare' is within the 90th percentile."
   ]
  },
  {
   "cell_type": "code",
   "execution_count": 15,
   "id": "8c163e30",
   "metadata": {},
   "outputs": [
    {
     "name": "stdout",
     "output_type": "stream",
     "text": [
      "     survived  pclass     sex   age  sibsp  parch      fare embarked  class  \\\n",
      "31          1       1  female   NaN      1      0  146.5208        C  First   \n",
      "34          0       1    male  28.0      1      0   82.1708        C  First   \n",
      "118         0       1    male  24.0      0      1  247.5208        C  First   \n",
      "139         0       1    male  24.0      0      0   79.2000        C  First   \n",
      "195         1       1  female  58.0      0      0  146.5208        C  First   \n",
      "215         1       1  female  31.0      1      0  113.2750        C  First   \n",
      "256         1       1  female   NaN      0      0   79.2000        C  First   \n",
      "258         1       1  female  35.0      0      0  512.3292        C  First   \n",
      "291         1       1  female  19.0      1      0   91.0792        C  First   \n",
      "299         1       1  female  50.0      0      1  247.5208        C  First   \n",
      "306         1       1  female   NaN      0      0  110.8833        C  First   \n",
      "307         1       1  female  17.0      1      0  108.9000        C  First   \n",
      "310         1       1  female  24.0      0      0   83.1583        C  First   \n",
      "311         1       1  female  18.0      2      2  262.3750        C  First   \n",
      "319         1       1  female  40.0      1      1  134.5000        C  First   \n",
      "325         1       1  female  36.0      0      0  135.6333        C  First   \n",
      "337         1       1  female  41.0      0      0  134.5000        C  First   \n",
      "373         0       1    male  22.0      0      0  135.6333        C  First   \n",
      "375         1       1  female   NaN      1      0   82.1708        C  First   \n",
      "377         0       1    male  27.0      0      2  211.5000        C  First   \n",
      "380         1       1  female  42.0      0      0  227.5250        C  First   \n",
      "393         1       1  female  23.0      1      0  113.2750        C  First   \n",
      "453         1       1    male  49.0      1      0   89.1042        C  First   \n",
      "484         1       1    male  25.0      1      0   91.0792        C  First   \n",
      "496         1       1  female  54.0      1      0   78.2667        C  First   \n",
      "505         0       1    male  18.0      1      0  108.9000        C  First   \n",
      "537         1       1  female  30.0      0      0  106.4250        C  First   \n",
      "544         0       1    male  50.0      1      0  106.4250        C  First   \n",
      "550         1       1    male  17.0      0      2  110.8833        C  First   \n",
      "557         0       1    male   NaN      0      0  227.5250        C  First   \n",
      "581         1       1  female  39.0      1      1  110.8833        C  First   \n",
      "587         1       1    male  60.0      1      1   79.2000        C  First   \n",
      "591         1       1  female  52.0      1      0   78.2667        C  First   \n",
      "659         0       1    male  58.0      0      2  113.2750        C  First   \n",
      "679         1       1    male  36.0      0      1  512.3292        C  First   \n",
      "698         0       1    male  49.0      1      1  110.8833        C  First   \n",
      "700         1       1  female  18.0      1      0  227.5250        C  First   \n",
      "716         1       1  female  38.0      0      0  227.5250        C  First   \n",
      "737         1       1    male  35.0      0      0  512.3292        C  First   \n",
      "742         1       1  female  21.0      2      2  262.3750        C  First   \n",
      "789         0       1    male  46.0      0      0   79.2000        C  First   \n",
      "835         1       1  female  39.0      1      1   83.1583        C  First   \n",
      "849         1       1  female   NaN      1      0   89.1042        C  First   \n",
      "879         1       1  female  56.0      0      1   83.1583        C  First   \n",
      "\n",
      "       who  adult_male deck embark_town alive  alone  \n",
      "31   woman       False    B   Cherbourg   yes  False  \n",
      "34     man        True  NaN   Cherbourg    no  False  \n",
      "118    man        True    B   Cherbourg    no  False  \n",
      "139    man        True    B   Cherbourg    no   True  \n",
      "195  woman       False    B   Cherbourg   yes   True  \n",
      "215  woman       False    D   Cherbourg   yes  False  \n",
      "256  woman       False  NaN   Cherbourg   yes   True  \n",
      "258  woman       False  NaN   Cherbourg   yes   True  \n",
      "291  woman       False    B   Cherbourg   yes  False  \n",
      "299  woman       False    B   Cherbourg   yes  False  \n",
      "306  woman       False  NaN   Cherbourg   yes   True  \n",
      "307  woman       False    C   Cherbourg   yes  False  \n",
      "310  woman       False    C   Cherbourg   yes   True  \n",
      "311  woman       False    B   Cherbourg   yes  False  \n",
      "319  woman       False    E   Cherbourg   yes  False  \n",
      "325  woman       False    C   Cherbourg   yes   True  \n",
      "337  woman       False    E   Cherbourg   yes   True  \n",
      "373    man        True  NaN   Cherbourg    no   True  \n",
      "375  woman       False  NaN   Cherbourg   yes  False  \n",
      "377    man        True    C   Cherbourg    no  False  \n",
      "380  woman       False  NaN   Cherbourg   yes   True  \n",
      "393  woman       False    D   Cherbourg   yes  False  \n",
      "453    man        True    C   Cherbourg   yes  False  \n",
      "484    man        True    B   Cherbourg   yes  False  \n",
      "496  woman       False    D   Cherbourg   yes  False  \n",
      "505    man        True    C   Cherbourg    no  False  \n",
      "537  woman       False  NaN   Cherbourg   yes   True  \n",
      "544    man        True    C   Cherbourg    no  False  \n",
      "550    man        True    C   Cherbourg   yes  False  \n",
      "557    man        True  NaN   Cherbourg    no   True  \n",
      "581  woman       False    C   Cherbourg   yes  False  \n",
      "587    man        True    B   Cherbourg   yes  False  \n",
      "591  woman       False    D   Cherbourg   yes  False  \n",
      "659    man        True    D   Cherbourg    no  False  \n",
      "679    man        True    B   Cherbourg   yes  False  \n",
      "698    man        True    C   Cherbourg    no  False  \n",
      "700  woman       False    C   Cherbourg   yes  False  \n",
      "716  woman       False    C   Cherbourg   yes   True  \n",
      "737    man        True    B   Cherbourg   yes   True  \n",
      "742  woman       False    B   Cherbourg   yes  False  \n",
      "789    man        True    B   Cherbourg    no   True  \n",
      "835  woman       False    E   Cherbourg   yes  False  \n",
      "849  woman       False    C   Cherbourg   yes  False  \n",
      "879  woman       False    C   Cherbourg   yes  False  \n"
     ]
    }
   ],
   "source": [
    "fare_90th_percentile = titanic['fare'].quantile(0.9)\n",
    "\n",
    "filtered_90th_percentile = titanic[(titanic['embarked'] == 'C') & (titanic['fare'] >= fare_90th_percentile)]\n",
    "\n",
    "print(filtered_90th_percentile)"
   ]
  }
 ],
 "metadata": {
  "kernelspec": {
   "display_name": "3.10.6",
   "language": "python",
   "name": "python3"
  },
  "language_info": {
   "codemirror_mode": {
    "name": "ipython",
    "version": 3
   },
   "file_extension": ".py",
   "mimetype": "text/x-python",
   "name": "python",
   "nbconvert_exporter": "python",
   "pygments_lexer": "ipython3",
   "version": "3.10.6"
  }
 },
 "nbformat": 4,
 "nbformat_minor": 5
}
